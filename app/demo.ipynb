{
 "cells": [
  {
   "cell_type": "code",
   "execution_count": 1,
   "metadata": {},
   "outputs": [
    {
     "name": "stdout",
     "output_type": "stream",
     "text": [
      "Epoch 1/50\n",
      "63/63 [==============================] - 1s 6ms/step - loss: 0.3998 - mse: 0.3998\n",
      "Epoch 2/50\n",
      "63/63 [==============================] - 0s 7ms/step - loss: 0.0599 - mse: 0.0599\n",
      "Epoch 3/50\n",
      "63/63 [==============================] - 0s 6ms/step - loss: 0.0134 - mse: 0.0134\n",
      "Epoch 4/50\n",
      "63/63 [==============================] - 0s 6ms/step - loss: 0.0024 - mse: 0.0024\n",
      "Epoch 5/50\n",
      "63/63 [==============================] - 0s 7ms/step - loss: 6.3915e-04 - mse: 6.3915e-04\n",
      "Epoch 6/50\n",
      "63/63 [==============================] - 0s 6ms/step - loss: 4.2542e-04 - mse: 4.2542e-04\n",
      "Epoch 7/50\n",
      "63/63 [==============================] - 0s 6ms/step - loss: 3.0057e-04 - mse: 3.0057e-04\n",
      "Epoch 8/50\n",
      "63/63 [==============================] - 0s 6ms/step - loss: 2.4009e-04 - mse: 2.4009e-04\n",
      "Epoch 9/50\n",
      "63/63 [==============================] - 0s 7ms/step - loss: 1.8030e-04 - mse: 1.8030e-04\n",
      "Epoch 10/50\n",
      "63/63 [==============================] - 0s 7ms/step - loss: 1.4252e-04 - mse: 1.4252e-04\n",
      "Epoch 11/50\n",
      "63/63 [==============================] - 0s 6ms/step - loss: 1.1180e-04 - mse: 1.1180e-04\n",
      "Epoch 12/50\n",
      "63/63 [==============================] - 0s 6ms/step - loss: 8.2935e-05 - mse: 8.2935e-05\n",
      "Epoch 13/50\n",
      "63/63 [==============================] - 0s 7ms/step - loss: 6.2774e-05 - mse: 6.2774e-05\n",
      "Epoch 14/50\n",
      "63/63 [==============================] - 0s 7ms/step - loss: 4.9272e-05 - mse: 4.9272e-05\n",
      "Epoch 15/50\n",
      "63/63 [==============================] - 0s 7ms/step - loss: 3.6480e-05 - mse: 3.6480e-05\n",
      "Epoch 16/50\n",
      "63/63 [==============================] - 1s 9ms/step - loss: 2.6664e-05 - mse: 2.6664e-05\n",
      "Epoch 17/50\n",
      "63/63 [==============================] - 0s 6ms/step - loss: 2.1007e-05 - mse: 2.1007e-05\n",
      "Epoch 18/50\n",
      "63/63 [==============================] - 0s 6ms/step - loss: 1.5106e-05 - mse: 1.5106e-05\n",
      "Epoch 19/50\n",
      "63/63 [==============================] - 0s 6ms/step - loss: 1.1413e-05 - mse: 1.1413e-05\n",
      "Epoch 20/50\n",
      "63/63 [==============================] - 0s 6ms/step - loss: 9.6267e-06 - mse: 9.6267e-06\n",
      "Epoch 21/50\n",
      "63/63 [==============================] - 0s 7ms/step - loss: 8.3290e-06 - mse: 8.3290e-06\n",
      "Epoch 22/50\n",
      "63/63 [==============================] - 0s 6ms/step - loss: 6.8866e-06 - mse: 6.8866e-06\n",
      "Epoch 23/50\n",
      "63/63 [==============================] - 0s 6ms/step - loss: 5.6769e-06 - mse: 5.6769e-06\n",
      "Epoch 24/50\n",
      "63/63 [==============================] - 0s 6ms/step - loss: 5.0891e-06 - mse: 5.0891e-06\n",
      "Epoch 25/50\n",
      "63/63 [==============================] - 0s 6ms/step - loss: 4.7391e-06 - mse: 4.7391e-06\n",
      "Epoch 26/50\n",
      "63/63 [==============================] - 0s 7ms/step - loss: 4.7397e-06 - mse: 4.7397e-06\n",
      "Epoch 27/50\n",
      "63/63 [==============================] - 0s 8ms/step - loss: 4.1170e-06 - mse: 4.1170e-06\n",
      "Epoch 28/50\n",
      "63/63 [==============================] - 1s 8ms/step - loss: 3.9463e-06 - mse: 3.9463e-06\n",
      "Epoch 29/50\n",
      "63/63 [==============================] - 0s 7ms/step - loss: 3.6577e-06 - mse: 3.6577e-06\n",
      "Epoch 30/50\n",
      "63/63 [==============================] - 0s 6ms/step - loss: 3.7201e-06 - mse: 3.7201e-06\n",
      "Epoch 31/50\n",
      "63/63 [==============================] - 0s 6ms/step - loss: 3.6501e-06 - mse: 3.6501e-06\n",
      "Epoch 32/50\n",
      "63/63 [==============================] - 0s 7ms/step - loss: 3.2776e-06 - mse: 3.2776e-06\n",
      "Epoch 33/50\n",
      "63/63 [==============================] - 0s 6ms/step - loss: 3.0205e-06 - mse: 3.0205e-06\n",
      "Epoch 34/50\n",
      "63/63 [==============================] - 0s 6ms/step - loss: 3.0892e-06 - mse: 3.0892e-06\n",
      "Epoch 35/50\n",
      "63/63 [==============================] - 0s 7ms/step - loss: 3.0560e-06 - mse: 3.0560e-06\n",
      "Epoch 36/50\n",
      "63/63 [==============================] - 0s 6ms/step - loss: 2.8725e-06 - mse: 2.8725e-06\n",
      "Epoch 37/50\n",
      "63/63 [==============================] - 0s 7ms/step - loss: 2.6196e-06 - mse: 2.6196e-06\n",
      "Epoch 38/50\n",
      "63/63 [==============================] - 0s 6ms/step - loss: 2.5881e-06 - mse: 2.5881e-06\n",
      "Epoch 39/50\n",
      "63/63 [==============================] - 0s 6ms/step - loss: 2.5911e-06 - mse: 2.5911e-06\n",
      "Epoch 40/50\n",
      "63/63 [==============================] - 0s 7ms/step - loss: 2.4796e-06 - mse: 2.4796e-06\n",
      "Epoch 41/50\n",
      "63/63 [==============================] - 0s 6ms/step - loss: 2.1066e-06 - mse: 2.1066e-06\n",
      "Epoch 42/50\n",
      "63/63 [==============================] - 0s 6ms/step - loss: 2.1157e-06 - mse: 2.1157e-06\n",
      "Epoch 43/50\n",
      "63/63 [==============================] - 0s 6ms/step - loss: 2.0754e-06 - mse: 2.0754e-06\n",
      "Epoch 44/50\n",
      "63/63 [==============================] - 0s 6ms/step - loss: 2.0509e-06 - mse: 2.0509e-06\n",
      "Epoch 45/50\n",
      "63/63 [==============================] - 0s 7ms/step - loss: 1.9610e-06 - mse: 1.9610e-06\n",
      "Epoch 46/50\n",
      "63/63 [==============================] - 0s 6ms/step - loss: 1.8115e-06 - mse: 1.8115e-06\n",
      "Epoch 47/50\n",
      "63/63 [==============================] - 0s 6ms/step - loss: 1.8123e-06 - mse: 1.8123e-06\n",
      "Epoch 48/50\n",
      "63/63 [==============================] - 0s 7ms/step - loss: 1.4910e-06 - mse: 1.4910e-06\n",
      "Epoch 49/50\n",
      "63/63 [==============================] - 0s 6ms/step - loss: 1.8423e-06 - mse: 1.8423e-06\n",
      "Epoch 50/50\n",
      "63/63 [==============================] - 0s 7ms/step - loss: 1.6243e-06 - mse: 1.6243e-06\n",
      "Epoch 1/50\n",
      "63/63 [==============================] - 1s 7ms/step - loss: 0.2663 - mse: 0.2663\n",
      "Epoch 2/50\n",
      "63/63 [==============================] - 0s 7ms/step - loss: 0.0372 - mse: 0.0372\n",
      "Epoch 3/50\n",
      "63/63 [==============================] - 0s 7ms/step - loss: 0.0304 - mse: 0.0304\n",
      "Epoch 4/50\n",
      "63/63 [==============================] - 0s 7ms/step - loss: 0.0261 - mse: 0.0261\n",
      "Epoch 5/50\n",
      "63/63 [==============================] - 0s 7ms/step - loss: 0.0217 - mse: 0.0217\n",
      "Epoch 6/50\n",
      "63/63 [==============================] - 0s 7ms/step - loss: 0.0183 - mse: 0.0183\n",
      "Epoch 7/50\n",
      "63/63 [==============================] - 0s 6ms/step - loss: 0.0155 - mse: 0.0155\n",
      "Epoch 8/50\n",
      "63/63 [==============================] - 0s 6ms/step - loss: 0.0123 - mse: 0.0123\n",
      "Epoch 9/50\n",
      "63/63 [==============================] - 0s 6ms/step - loss: 0.0101 - mse: 0.0101\n",
      "Epoch 10/50\n",
      "63/63 [==============================] - 0s 6ms/step - loss: 0.0084 - mse: 0.0084\n",
      "Epoch 11/50\n",
      "63/63 [==============================] - 0s 6ms/step - loss: 0.0070 - mse: 0.0070\n",
      "Epoch 12/50\n",
      "63/63 [==============================] - 0s 6ms/step - loss: 0.0057 - mse: 0.0057\n",
      "Epoch 13/50\n",
      "63/63 [==============================] - 0s 6ms/step - loss: 0.0046 - mse: 0.0046\n",
      "Epoch 14/50\n",
      "63/63 [==============================] - 0s 6ms/step - loss: 0.0039 - mse: 0.0039\n",
      "Epoch 15/50\n",
      "63/63 [==============================] - 0s 6ms/step - loss: 0.0033 - mse: 0.0033\n",
      "Epoch 16/50\n",
      "63/63 [==============================] - 0s 7ms/step - loss: 0.0027 - mse: 0.0027\n",
      "Epoch 17/50\n",
      "63/63 [==============================] - 0s 7ms/step - loss: 0.0022 - mse: 0.0022\n",
      "Epoch 18/50\n",
      "63/63 [==============================] - 0s 6ms/step - loss: 0.0019 - mse: 0.0019\n",
      "Epoch 19/50\n",
      "63/63 [==============================] - 0s 6ms/step - loss: 0.0015 - mse: 0.0015\n",
      "Epoch 20/50\n",
      "63/63 [==============================] - 0s 6ms/step - loss: 0.0013 - mse: 0.0013\n",
      "Epoch 21/50\n",
      "63/63 [==============================] - 0s 6ms/step - loss: 0.0011 - mse: 0.0011\n",
      "Epoch 22/50\n",
      "63/63 [==============================] - 0s 6ms/step - loss: 9.7683e-04 - mse: 9.7683e-04\n",
      "Epoch 23/50\n",
      "63/63 [==============================] - 0s 6ms/step - loss: 8.0653e-04 - mse: 8.0653e-04\n",
      "Epoch 24/50\n",
      "63/63 [==============================] - 0s 6ms/step - loss: 6.9973e-04 - mse: 6.9973e-04\n",
      "Epoch 25/50\n",
      "63/63 [==============================] - 0s 6ms/step - loss: 6.3166e-04 - mse: 6.3166e-04\n",
      "Epoch 26/50\n",
      "63/63 [==============================] - 0s 6ms/step - loss: 5.4707e-04 - mse: 5.4707e-04\n",
      "Epoch 27/50\n",
      "63/63 [==============================] - 0s 6ms/step - loss: 4.8480e-04 - mse: 4.8480e-04\n",
      "Epoch 28/50\n",
      "63/63 [==============================] - 0s 6ms/step - loss: 4.3335e-04 - mse: 4.3335e-04\n",
      "Epoch 29/50\n",
      "63/63 [==============================] - 0s 6ms/step - loss: 4.1322e-04 - mse: 4.1322e-04\n",
      "Epoch 30/50\n",
      "63/63 [==============================] - 0s 6ms/step - loss: 3.7554e-04 - mse: 3.7554e-04\n",
      "Epoch 31/50\n",
      "63/63 [==============================] - 0s 6ms/step - loss: 3.2706e-04 - mse: 3.2706e-04\n",
      "Epoch 32/50\n",
      "63/63 [==============================] - 0s 7ms/step - loss: 3.0468e-04 - mse: 3.0468e-04\n",
      "Epoch 33/50\n",
      "63/63 [==============================] - 0s 6ms/step - loss: 2.8143e-04 - mse: 2.8143e-04\n",
      "Epoch 34/50\n",
      "63/63 [==============================] - 0s 6ms/step - loss: 2.5332e-04 - mse: 2.5332e-04A: 0s - loss: 2.5367e-04 - mse: 2.5367e-\n",
      "Epoch 35/50\n",
      "63/63 [==============================] - 0s 6ms/step - loss: 2.3425e-04 - mse: 2.3425e-04\n",
      "Epoch 36/50\n",
      "63/63 [==============================] - 0s 6ms/step - loss: 2.1415e-04 - mse: 2.1415e-04\n",
      "Epoch 37/50\n",
      "63/63 [==============================] - 0s 6ms/step - loss: 2.0255e-04 - mse: 2.0255e-04\n",
      "Epoch 38/50\n",
      "63/63 [==============================] - 0s 6ms/step - loss: 1.7931e-04 - mse: 1.7931e-04\n",
      "Epoch 39/50\n",
      "63/63 [==============================] - 0s 6ms/step - loss: 1.7148e-04 - mse: 1.7148e-04\n",
      "Epoch 40/50\n",
      "63/63 [==============================] - 0s 6ms/step - loss: 1.5705e-04 - mse: 1.5705e-04\n",
      "Epoch 41/50\n",
      "63/63 [==============================] - 0s 6ms/step - loss: 1.4389e-04 - mse: 1.4389e-04\n",
      "Epoch 42/50\n",
      "63/63 [==============================] - 0s 7ms/step - loss: 1.3211e-04 - mse: 1.3211e-04\n",
      "Epoch 43/50\n",
      "63/63 [==============================] - 0s 6ms/step - loss: 1.2704e-04 - mse: 1.2704e-04\n",
      "Epoch 44/50\n",
      "63/63 [==============================] - 0s 7ms/step - loss: 1.1335e-04 - mse: 1.1335e-04\n",
      "Epoch 45/50\n",
      "63/63 [==============================] - 0s 6ms/step - loss: 1.0756e-04 - mse: 1.0756e-04\n",
      "Epoch 46/50\n",
      "63/63 [==============================] - 0s 6ms/step - loss: 9.7963e-05 - mse: 9.7963e-05\n",
      "Epoch 47/50\n",
      "63/63 [==============================] - 0s 8ms/step - loss: 9.1551e-05 - mse: 9.1551e-05\n",
      "Epoch 48/50\n",
      "63/63 [==============================] - 0s 6ms/step - loss: 8.5241e-05 - mse: 8.5241e-05\n",
      "Epoch 49/50\n",
      "63/63 [==============================] - 0s 6ms/step - loss: 7.6498e-05 - mse: 7.6498e-05\n",
      "Epoch 50/50\n",
      "63/63 [==============================] - 0s 6ms/step - loss: 7.4552e-05 - mse: 7.4552e-05\n",
      "{'verbose': 1, 'epochs': 50, 'steps': 63}\n",
      "dict_keys(['loss', 'mse'])\n"
     ]
    }
   ],
   "source": [
    "import numpy as np\n",
    "from tensorflow import keras\n",
    "import tensorflow as tf\n",
    "import matplotlib.pyplot as plt\n",
    "import copy\n",
    "import time\n",
    "%matplotlib inline\n",
    "\n",
    "physical_devices = tf.config.list_physical_devices('GPU') \n",
    "tf.config.experimental.set_memory_growth(physical_devices[0], True)\n",
    "\n",
    "model_adam = keras.models.Sequential()\n",
    "model_adam.add(keras.layers.Input(batch_input_shape=(1,1))) # Date de intrare\n",
    "model_adam.add(keras.layers.Dense(32, activation='relu'))\n",
    "model_adam.add(keras.layers.Dense(16, activation='relu'))\n",
    "model_adam.add(keras.layers.Dense(1, activation='linear')) # Date de iesire\n",
    "model_adam.compile(loss='mse', optimizer='adam', metrics=['mse'])\n",
    "\n",
    "model_sgd = keras.models.Sequential()\n",
    "model_sgd.add(keras.layers.Input(batch_input_shape=(1,1))) # Date de intrare\n",
    "model_sgd.add(keras.layers.Dense(32, activation='relu'))\n",
    "model_sgd.add(keras.layers.Dense(16, activation='relu'))\n",
    "model_sgd.add(keras.layers.Dense(1, activation='linear')) # Date de iesire\n",
    "model_sgd.compile(loss='mse', optimizer='sgd', metrics=['mse'])\n",
    "\n",
    "def f(x):\n",
    "    return 1 / (x * x + 1)\n",
    "\n",
    "xs = np.linspace(-1, 1, 2000)\n",
    "ys = f(xs)\n",
    "\n",
    "\n",
    "y_no_train = model_adam.predict(xs)\n",
    "\n",
    "history = model_adam.fit(xs, ys, epochs=50)\n",
    "history_sgd = model_sgd.fit(xs, ys, epochs=50)\n",
    "print(history.params)\n",
    "print(history.history.keys())"
   ]
  },
  {
   "cell_type": "code",
   "execution_count": null,
   "metadata": {},
   "outputs": [],
   "source": []
  },
  {
   "cell_type": "code",
   "execution_count": 2,
   "metadata": {},
   "outputs": [
    {
     "data": {
      "text/plain": [
       "array([[1.0001168]], dtype=float32)"
      ]
     },
     "execution_count": 2,
     "metadata": {},
     "output_type": "execute_result"
    }
   ],
   "source": [
    "model_adam.predict([0])"
   ]
  },
  {
   "cell_type": "code",
   "execution_count": 3,
   "metadata": {},
   "outputs": [
    {
     "name": "stdout",
     "output_type": "stream",
     "text": [
      "[0.25336769223213196, 0.044886842370033264, 0.009470997378230095, 0.0017061742255464196, 0.0005690146936103702, 0.0003856142866425216, 0.00029225379694253206, 0.00022458223975263536, 0.00017176488472614437, 0.00013260976993478835, 0.00010207188461208716, 7.893008296377957e-05, 6.082480831537396e-05, 4.6136647142702714e-05, 3.412556179682724e-05, 2.54102487815544e-05, 1.907396290334873e-05, 1.4596111213904805e-05, 1.1341758181515615e-05, 9.052909263118636e-06, 7.456821094820043e-06, 6.330796622933121e-06, 5.575246177613735e-06, 5.095436335977865e-06, 4.7101361815293785e-06, 4.401952082844218e-06, 4.140411419939483e-06, 3.9540441321150865e-06, 3.827551608992508e-06, 3.627597379818326e-06, 3.5167199712304864e-06, 3.2940549772320082e-06, 3.1426209261553595e-06, 3.0073927064222516e-06, 2.909809381890227e-06, 2.786125833154074e-06, 2.584976755315438e-06, 2.5259780613851035e-06, 2.5282906790380366e-06, 2.263184342155e-06, 2.204549446105375e-06, 2.1020825897721807e-06, 2.0809741272387328e-06, 2.0128313735767733e-06, 1.971254960153601e-06, 1.8764152400763123e-06, 1.7797026430343976e-06, 1.6807767906357185e-06, 1.7035824839695124e-06, 1.6313080095642363e-06]\n"
     ]
    }
   ],
   "source": [
    "print(history.history[\"loss\"])"
   ]
  },
  {
   "cell_type": "code",
   "execution_count": 4,
   "metadata": {},
   "outputs": [
    {
     "name": "stdout",
     "output_type": "stream",
     "text": [
      "[1, 2, 3, 4, 5, 6, 7, 8, 9, 10, 11, 12, 13, 14, 15, 16, 17, 18, 19, 20, 21, 22, 23, 24, 25, 26, 27, 28, 29, 30, 31, 32, 33, 34, 35, 36, 37, 38, 39, 40, 41, 42, 43, 44, 45, 46, 47, 48, 49, 50]\n"
     ]
    }
   ],
   "source": [
    "epochs = [i for i in range(1, 51)]\n",
    "print(epochs)"
   ]
  },
  {
   "cell_type": "code",
   "execution_count": 5,
   "metadata": {},
   "outputs": [
    {
     "data": {
      "image/png": "[encoded data removed]",
      "text/plain": [
       "<Figure size 432x288 with 1 Axes>"
      ]
     },
     "metadata": {
      "needs_background": "light"
     },
     "output_type": "display_data"
    }
   ],
   "source": [
    "plt.plot(epochs, history.history[\"mse\"], label='Adam')\n",
    "plt.plot(epochs, history_sgd.history[\"mse\"], label='SGD')\n",
    "plt.xlabel('Epocă/Episod')\n",
    "plt.ylabel('Procentul de pierderi')\n",
    "plt.title('Evoluția pierderilor în timpul antrenării')\n",
    "plt.legend()\n",
    "plt.show()"
   ]
  },
  {
   "cell_type": "code",
   "execution_count": 14,
   "metadata": {},
   "outputs": [
    {
     "data": {
      "image/png": "[encoded data removed]",
      "text/plain": [
       "<Figure size 432x288 with 1 Axes>"
      ]
     },
     "metadata": {
      "needs_background": "light"
     },
     "output_type": "display_data"
    }
   ],
   "source": [
    "plt.plot(xs, ys, label='Funcție de referință')\n",
    "plt.plot(xs, y_no_train, label='Estimare')\n",
    "plt.xlabel('x')\n",
    "plt.ylabel('y')\n",
    "plt.title('Estimări cu o rețea neuronală neantrenată')\n",
    "plt.ylim(-0.1, 1.3)\n",
    "plt.grid()\n",
    "plt.legend()\n",
    "plt.show()"
   ]
  },
  {
   "cell_type": "code",
   "execution_count": 16,
   "metadata": {},
   "outputs": [
    {
     "data": {
      "image/png": "[encoded data removed]",
      "text/plain": [
       "<Figure size 432x288 with 1 Axes>"
      ]
     },
     "metadata": {
      "needs_background": "light"
     },
     "output_type": "display_data"
    }
   ],
   "source": [
    "plt.plot(xs, ys, label='Funcție de referință')\n",
    "plt.plot(xs, model_adam.predict(xs), label='Estimare')\n",
    "plt.xlabel('x')\n",
    "plt.ylabel('y')\n",
    "plt.title('Estimări cu o rețea neuronală antrenată')\n",
    "plt.grid()\n",
    "plt.ylim(-0.1, 1.3)\n",
    "plt.legend()\n",
    "plt.show()"
   ]
  },
  {
   "cell_type": "code",
   "execution_count": null,
   "metadata": {},
   "outputs": [],
   "source": []
  }
 ],
 "metadata": {
  "kernelspec": {
   "display_name": "Python 3",
   "language": "python",
   "name": "python3"
  },
  "language_info": {
   "codemirror_mode": {
    "name": "ipython",
    "version": 3
   },
   "file_extension": ".py",
   "mimetype": "text/x-python",
   "name": "python",
   "nbconvert_exporter": "python",
   "pygments_lexer": "ipython3",
   "version": "3.8.5"
  }
 },
 "nbformat": 4,
 "nbformat_minor": 4
}

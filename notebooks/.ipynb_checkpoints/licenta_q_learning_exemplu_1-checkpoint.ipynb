{
 "cells": [
  {
   "cell_type": "markdown",
   "metadata": {
    "id": "3wZFvBryrSj7"
   },
   "source": [
    "# Exemplu algoritm Q-learning\n",
    "## Introducere\n",
    "\n",
    "In cadul aceste lucrari se va incerca contruirea unui model matematic care poate ofera intructiuni unui agent ( masina, avion, robot ) sa indeplineasca anumite sarcini ( sa ajunga intr-o anumita locatie), si daca este cazul, sa fie cat mai optim.\n",
    "\n",
    "Un algoritm care ne poate ajuta sa creeam un asemenea model este cel de Q-Learning.\n",
    "\n",
    "Conform Wikipedia: Q-Learning este o tehnică de învățare automată care asociază o utilitate pentru fiecare pereche stare-acțiune. Elementele de bază sunt : agent, stare, acțiune, recompensă. La orice moment, agentul se află într-o anumită stare și decide asupra uneia dintre mai multe acțiuni. Pentru acțiunea sa, agentul primește o recompensă.\n",
    "\n",
    "![exemplu](https://www.novatec-gmbh.de/wp-content/uploads/1_mPGk9WTNNvp3i4-9JFgD3w.png)\n",
    "\n",
    "![exemplu](https://cml.rhul.ac.uk/images/inventions/qlearning.jpg)\n",
    "\n",
    "Q-Learning isi are originile in programarea dinamica, scopul sau fiind sa optimize deciziile agentului bazanduse pe posibilele recompense care duc la o solutie optima.\n",
    "\n",
    "Pentru a stabili valoarea acestor recompense pentru stare a agentului conforme actiuni luate, Q-Learning foloseste un table de valori denumit Q-Table.\n",
    "\n",
    "![image.png](https://upload.wikimedia.org/wikipedia/commons/thumb/e/e0/Q-Learning_Matrix_Initialized_and_After_Training.png/880px-Q-Learning_Matrix_Initialized_and_After_Training.png)\n",
    "\n",
    "Pentru fiecare stare a mediul in care se afla agentul, ii se asociaza setul de actiuni disponibile.\n",
    "\n",
    "![exmplu](https://www.researchgate.net/profile/Nurmin-Bolong/publication/224256471/figure/fig1/AS:419086120046593@1476929325476/Q-Learning-algorithm-flow-chart_Q320.jpg)\n",
    "\n",
    "Ex. Sa ne imaginam ca avem un pendul simplu care este actionat de un motor, si dorim sa trimitem instructiuni motorului sa aduca pendulul intr-o anumita pozitie. Stare acestui mediu va fi reprezentata de pozitia pendulului, indicata de diferenta dintre unghiul current al pendului si pozitia dorita. Setul de actiuni disponibile ale motorului sunt: `roteste la stanga`, `roteste la dreapta`. Iar atat timp cat pendulul nu se afla la pozitia dorita, se vor aplica penalizare ( o recompensa negativa ).\n",
    "\n",
    "![examplu](https://encrypted-tbn0.gstatic.com/images?q=tbn:ANd9GcSkYwRICZrHI9XxVs2slUG6WLZ8rI3ClcaPBA&usqp=CAU)\n",
    "\n",
    "Tabelul Q va fi urmatorul:\n",
    "\n",
    "| Pozitie  (grade) | Roteste la stanga | Roteste la dreapta\n",
    "| --- | :---: | :---: |\n",
    "| -180 | 0 | 0|\n",
    "| -170 | 0 | 0 |\n",
    "| ... | 0 | 0 |\n",
    "| 0 | 0 | 0 |\n",
    "| 1 | 0 | 0 |\n",
    "| 2 | 0 | 0 |\n",
    "| ... | 0 | 0 |\n",
    "|180| 0 | 0 |\n",
    "\n",
    "\n",
    "Rolul algoritmului va fi sa sa determine valorile din tabel pentru care agentul va obtine o recompensa cat mai mare. In cele din urma aratand in aceste fel:\n",
    "\n",
    "| Pozitie  (grade) | Roteste la stanga | Roteste la dreapta\n",
    "| --- | :---: | :---: |\n",
    "| -180 | -5 | -5|\n",
    "| -170 | -3 | -12 |\n",
    "| ... | ... | ... |\n",
    "| -1 | -2 | -30|\n",
    "| 0 | 0 | 0 |\n",
    "| 1 | -28 | -2 |\n",
    "| 2 | -24 | -3 |\n",
    "| ... | ... | ... |\n",
    "|180| -5 | -5 |\n",
    "\n",
    "Putem oberserva ca daca diferenta este pozitiva, agentul va transmita motorului sa roteasca pendulul la dreapta, deoarece valoarea Q al acelei actiuni in starea respectiva este mai mare, iar pentru cealalta se poate vedea ca nu duce la o solutie bun din cauza numarului mare de penalizari cumulate. Opusul de intampla pentru cazul cand diferenta este negativa. \n",
    "\n",
    "Se observa ca atunci cand diferenta este 0, ambele actiuni au valoarea maxima, indicand starea la care trebuie ajunga agentul. De asemenea, atunci cand agentul de afla la `-180` sau `180`, ambele actiuni au aceiasi valoare, indicand o stare in care ambele actiuni pot duce la o solutie optima.\n",
    "\n",
    "**Un lucru foarte important de retinut este faptul ca algoritmul tine cont doar de acest tabel, iar optimizarea se face folosind doar recompensele. Q-Learning este un algoritm cu forma libera a mediului, asa ca nu tine cont de modul in care mediul este contruit sau functioneaza. Asadar, daca am dorii sa adaugam mai multe variable de mediu in acesta simulare, precum: gravitatie, frecare, etc. nu trebuie sa le exprimam in tabel (de cele mai multe ori), intrucat efectul lor se va observa in valorile Q din tabel.**\n",
    "\n",
    "**Este foarte important sa avem un model bun pentru exprimarea starilor si valoarea recompenselor.**\n",
    "\n",
    "\n",
    "## Problema\n",
    "\n",
    "Fie o masina in continua miscare si aflata intr-o pozitie aleatorie, sa se determine decizii optime pentru care masina poate sa ajunga la o locatia arbitrara. Viteza masinii este de `5 m/s`, rata de rotatie este de `45 grade`, iar distanta maxima fata de locatie este de `200 de metri`. Actiunile posibile sunt: `pastreaza directia`, `viraj la stanga`, `viraj la dreapta`.\n",
    "\n"
   ]
  },
  {
   "cell_type": "markdown",
   "metadata": {
    "id": "3wmq3xS7mN6D"
   },
   "source": [
    "# Rezolvare\n",
    "## Detele problemei\n",
    "\n",
    "Setul de actiuni pe care masina ce le poate face le vom numii `spatiul actiunilor` si aceste vor fi identificare printr-un cod.\n",
    "\n",
    "| Actiune | Cod |\n",
    "| ---: | --- |\n",
    "| Pastreaza directia | 0 |\n",
    "| Viraj la stanga | 1 |\n",
    "| Viraj la dreapta | 2 |\n",
    "\n",
    "De asemene, pentru lucrul cu matrici si alte formule matematice ne vom folosii de libraria [numpy](https://numpy.org) care poate oferii functii precum celor din `Matlab`"
   ]
  },
  {
   "cell_type": "code",
   "execution_count": null,
   "metadata": {
    "id": "2PjsEX2crQ5e"
   },
   "outputs": [],
   "source": [
    "import numpy as np\n",
    "import matplotlib.pyplot as plt\n",
    "import pandas\n",
    "import copy\n",
    "%matplotlib inline\n",
    "\n",
    "# Datele problemei\n",
    "car_speed = 5 # viteza masinii\n",
    "turn_rate = 45 # rata de intoarcere\n",
    "max_distance = 200 # distanta maxima posibila\n",
    "action_space = [0, 1, 2] # [pastreaza_directia, viraj_stanga, viraj_dreapta]\n",
    "car_position = np.array([90, 90]) # positia 2D a masinii\n",
    "location_position = np.array([0, 0]) # positia 2D a locatiei\n",
    "location_size = 13 # raza locatiei"
   ]
  },
  {
   "cell_type": "markdown",
   "metadata": {
    "id": "Rm7sL_QWl8wj"
   },
   "source": [
    "## Contruirea tabelului de valori Q => Q-Tabel\n",
    "\n",
    "Pentru a contrui aceste tabel, vom modele spatiul starilor in felul urmator:\n",
    "\n",
    "Prima stare va fi reprezentata de distanta de la locatia pana la masina, iar a doua stare va fi unghiul dintre vectorul de directe al masinii si vecturul directie care arata spre locatie.\n",
    "\n",
    "### Stabilirea recompenselor si penalizarilor\n",
    "\n",
    "Daca masina/agentul se la destinatie va primii `100 de puncte`\n",
    "\n",
    "Daca masina/agentul nu se la destinatie va fi penalizat cu `1 punct` - daca nu penalizam agentul ca nu a gasit inca locatie, acesta nu va gasii un drum optim, intrucat nu-l costa nimic sa piarda timpul trecand prin mai multe stari.\n",
    "\n",
    "Daca masina/agentul trece de distanta maxima admisa va fi penalizat cu `100 de puncte`\n",
    "\n",
    "### Discretizare\n",
    "\n",
    "Acum ambele stari sunt valori reale, nu le putem reprezenta pe toate in tabel. De aici precizarile si restrictiile impuse in problema.\n",
    "\n",
    "Vom folosii urmatoarea regula de discretizare.\n",
    "\n",
    "Cum viteza masinii este de `5 m/s`, iar distanta maxima admisa este `200 de metrii`. Starile posibile vor fi `[0, 5, 10, 15, 20, 25, 30, ..., 185, 190, 195]`. Aceste sunt distantele pe care le poate avea masina **daca ar merge in line dreapta**. Acest spatiu nu acopera toate posibilitatii, cu cat dorim sa fim mai precisi cu atat trebuie sa alocam mai mult spaiu pentru tabel. **Dimensiunea aceste stari este data de formula `[distanta_maxima / viteza_masina]`**\n",
    "\n",
    "| Pozitie tabel | Valoarea distanta |\n",
    "| --: | :--- |\n",
    "| 0 | 0 |\n",
    "| 1 | 5 |\n",
    "| 2 | 10 |\n",
    "| 3 | 15 |\n",
    "| ... | ... |\n",
    "| 39 | 195 |\n",
    "\n",
    "\n",
    "Aplicam acelasi lucru si in cazul unghiului. Starile posibile vor fi `[0, 45, 90, 135, 180, 225, 270, 315]`. **Dimensiunea aceste stari este data de formula `[360 / rata_de_rotatie]`**\n",
    "\n",
    "| Pozitie tabel | Valoarea unghi |\n",
    "| --: | :--- |\n",
    "| 0 | 0 |\n",
    "|1 | 45 |\n",
    "| 2 | 90 |\n",
    "| 3 | 135 |\n",
    "| ... | ... |\n",
    "| 7 | 315 |\n",
    "\n",
    "Prin urmate, spatiul starilor este dat de multimea formata din perechile `(distanta,unghi)` care are `40 * 8 = 320` de perechi.\n",
    "\n",
    "| Distanta \\ Unghi | 0 | 1 | ... | 7 | \n",
    "| ---: | :---: | :----: | :----: | :---: |\n",
    "| 0 | (0, 0) | (0, 45) | ... | (0, 315) |\n",
    "| 1 | (10, 0) | (10, 45) | ... | (10, 315) |\n",
    "| ... | ... | ... | ... | ... |\n",
    "| 39 | (195, 0) | (195, 10) | ... | (195, 315) |\n",
    "\n",
    "\n",
    "### Q-Tabel\n",
    "\n",
    "Cum fiecarei perechi din spatiul starilor ii se asociaza actiunile din spatiul actiunilor, numarul total de elemente din tabelul de valori Q va fi: `numar_stari * numar_actiuni = 320 * 3 = 960`.\n",
    "\n",
    "#### **Pozitia unui element din tabelul de valori Q va fi data de formula: `(distanta*, unghi*, actiune)`. Unde `distanta*, unghi*` este pozitia valorii discretizate din tabelele de mai sus - care poate fi calculate cu formulele: `[distanta/viteza] si [unghi/rata_de_rotatie]`,unde `[]` reprezinta partea intreaga.  Exemplu: `(1, 2, 1) -> distanta de 10 metrii, cu unghiul de 90 de grade pentru actiune 1 - viraj la stanga`**\n",
    "\n",
    "Forma tabelului va fi: `(distance, unghiuri, actiuni) = (40, 8, 3)`"
   ]
  },
  {
   "cell_type": "code",
   "execution_count": null,
   "metadata": {
    "id": "JOqjlhEsl6vu"
   },
   "outputs": [],
   "source": [
    "# Tabel de valori Q\n",
    "dim_Q = ( max_distance // car_speed, 360 // turn_rate, len(action_space) )\n",
    "Q_table = np.random.uniform(low=-2, high=0, size=dim_Q) # creez o m"
   ]
  },
  {
   "cell_type": "markdown",
   "metadata": {
    "id": "u7xCIvRuC-UA"
   },
   "source": [
    "## Definire Agent\n",
    "\n",
    "Agentul va fi masina, iar observarea lui inseamna determinarea pozitiei actuale si a vectorului de directie."
   ]
  },
  {
   "cell_type": "code",
   "execution_count": null,
   "metadata": {
    "id": "yKwaIzKPxIOL"
   },
   "outputs": [],
   "source": [
    "class Agent:\n",
    "  def __init__(self, position, direction, turn_rate, speed):\n",
    "    self.pos = position.astype(np.float64)\n",
    "    self.dir = direction\n",
    "    self.turn_rate = turn_rate\n",
    "    self.speed = speed\n",
    "  \n",
    "  # calculez noua pozitia in functia de actiunea data\n",
    "  def apply_action(self, action):\n",
    "    # print(f\"Actiune: {action}\")\n",
    "    if action == 2:\n",
    "      # print(\"Viraj la dreapta\")\n",
    "      self.dir += self.turn_rate\n",
    "      if self.dir >= 360:\n",
    "        self.dir = self.dir - 360\n",
    "    elif action == 1:\n",
    "      # print(\"Viraj la stanga\")\n",
    "      self.dir -= self.turn_rate\n",
    "      if self.dir < 0:\n",
    "        self.dir = 360 - self.dir \n",
    "\n",
    "    self.pos = self.pos + self.get_vector_direction() * self.speed\n",
    "\n",
    "  # calculez vectorul de directie\n",
    "  def get_vector_direction(self):\n",
    "    return np.array([ np.cos(np.deg2rad(self.dir)) ,  np.sin(np.deg2rad(self.dir))])\n",
    "  \n",
    "  # returnez pozitia actuala si vectorul de directie\n",
    "  def observe(self):\n",
    "    return self.pos, self.get_vector_direction()\n",
    "\n",
    "  def __str__(self):\n",
    "    return f\"Pos: {self.pos}, Dir: {self.dir}\""
   ]
  },
  {
   "cell_type": "markdown",
   "metadata": {
    "id": "d7N83IPADk4E"
   },
   "source": [
    "## Aplicare Q-Learning\n",
    "\n",
    "Inainte sa incepem, vom stabili un vocabular:\n",
    "\n",
    "Iteratie - moment de rulare. In cazul nostru acest moment va fi reprezentat de timp, si anume fiecare iteratie reprezinta `o secunda`\n",
    "\n",
    "Episod - sesiune de rulare, in care agentul incearca sa rezolve sarcina in iteratiile alocate. In cazul nostru, un episod are `250 de iteratii` - in mediul nostru agentul are la dispozitie maxim `250 de secunde` sa-si indeplineasca sarcina.\n",
    "\n",
    "Formula pe care o vom folosii este: ![formula](https://pythonprogramming.net/static/images/reinforcement-learning/new-q-value-formula.png)\n",
    "\n",
    "**Rata de invatare ( learning rate )** - determina cat de mult informatia noua va influenta informatia veche. Daca valoarea este 0, agentul nu invata nimic, informatia fiind pierduta. Pentru valoarea 1, agentul foloseste numai informatia nou, cea veche nu este luata in considerare.\n",
    "\n",
    "**Reducere ( discount )** - determina importanta viitoarele recompense. Pentru valoarea 0, agentul va considera numai castigurile imediate ( gandire pe termen scurt ). Pentru o valoarea mai mare ca 0, agentul va considera si castigurile viitoare ( gandire pe termin lung ). Cele mai uzuale valori sunt in intervalul `[0.9, 0.99]`\n",
    "\n",
    "**Rata de explorare sau exploatare - in cazul nostru denumita $\\epsilon$** - aceasta nu apare in formula, dar va fi folosit la determinarea unei actiuni. Ca sa avem sansa sa gasim o solutie optima, trebuie sa oferim algoritmului sansa sa testeze cat mai multe posiblitati. O strategie este ca in primele episoade, sa avem acestea valoare cat mai mare care sa faca agentul sa fie cat mai `curios` - sa aleaga o actiune aleatoare in locul celei mai bune. Aceasta curiozitate o vom numii `faza de explorare`. Pentru valorii mici sau chiar nule, algoritmul se va folosii mai mult de datele deja colectate, incercand sa gaseasca in acestea solutia optima - numita si `faza de exploatare`"
   ]
  },
  {
   "cell_type": "code",
   "execution_count": null,
   "metadata": {
    "id": "NXLHb82_a7YA"
   },
   "outputs": [],
   "source": [
    "EPISODES = 14000 # Numar de episoade pentru care vom face invatarea\n",
    "EPISODE_ITERATIONS = 250 # Numarul de iteratii maxime al fiecarui episod\n",
    "LEARNING_RATE = 0.1 # rata de invatare\n",
    "DISCOUNT = 0.95 # reducerea\n",
    "\n",
    "# episodul de la care vom incepe sa micsoram rata de explorare\n",
    "START_EPSILON_DECAYING = 200 \n",
    "# episodul de la care vom elimina rata de explorare - agentul va fi numai in faza de exploatare\n",
    "END_EPSILON_DECAYING = int( EPISODES * 0.7 ) \n",
    "# rate initiala de explorare\n",
    "epsilon = 1\n",
    "# valoarea nu ce care va fi redusa rata de explorare\n",
    "epsilon_decay_value = epsilon/(END_EPSILON_DECAYING - START_EPSILON_DECAYING)\n",
    "\n",
    "# Date pentru analizat\n",
    "rewards = [] # recompensele pentru fiecare episod\n",
    "best_reward = -1000 # recompensa maxima atinsa\n",
    "best_agent_positions = [] # drumul parcurs de agent in episodul cu cea mai mare recompensa\n",
    "best_Q_table = copy.deepcopy(Q_table) # valori Q pentru pentru episodul cu cea mai mare recompensa"
   ]
  },
  {
   "cell_type": "markdown",
   "metadata": {
    "id": "49itrAbwLKkK"
   },
   "source": [
    "### Functii utilitare"
   ]
  },
  {
   "cell_type": "code",
   "execution_count": null,
   "metadata": {
    "id": "bGa5TunIa__I"
   },
   "outputs": [],
   "source": [
    "# calculeaza distanta de la locatia la masina\n",
    "def compute_distance_from( car_pos ):\n",
    "  return np.linalg.norm(location_position - car_pos)\n",
    "\n",
    "# calculeaza unghiul dintre directia masinii si directia masinii catre locatie\n",
    "def compute_direction_from( car_pos, car_dir ):\n",
    "  vector_to_location = location_position - car_pos\n",
    "  value = np.clip(np.dot(car_dir, vector_to_location) / ( np.linalg.norm(car_dir) * np.linalg.norm( vector_to_location) ) ,a_min=1, a_max=-1)\n",
    "  car_location_angle_difference = np.arccos( value )\n",
    "  angle = np.mod( np.rad2deg( car_location_angle_difference ), 360)\n",
    "  if angle == 360:\n",
    "    return 0\n",
    "  return angle.astype(np.int)\n",
    "\n",
    "# calculeaza recompensa\n",
    "def compute_reward_for( state ):\n",
    "  # verirfic daca am ajuns la destinatie\n",
    "  if state[0] < location_size:\n",
    "    return 100\n",
    "  # aplic penalizare pentru ca am iesit in distanta maxima admisa\n",
    "  elif state[1] > max_distance:\n",
    "    return -100\n",
    "  # penalizare pentru ca nu am ajuns inca la destinatie\n",
    "  return -1\n",
    "\n",
    "# calculeaza starea din observatiile agentului - valori sunt reale\n",
    "def compute_state_for( observation ):\n",
    "  return compute_distance_from( observation[0] ), compute_direction_from( observation[0] ,observation[1] )\n",
    "\n",
    "# discretizeaza valorile reale ale starii\n",
    "def compute_discrete_state_for( state ):\n",
    "   return state[0].astype(np.int) // car_speed, state[1] // turn_rate\n",
    "\n",
    "# calculeaza starea urmatoare si recompensele bazate pe o actiune data catre agent\n",
    "def compute_future_state_with( action, agent ):\n",
    "  agent.apply_action( action )\n",
    "  next_state = compute_state_for( agent.observe() )\n",
    "\n",
    "  # Calculez recompensa\n",
    "  reward = compute_reward_for( next_state )\n",
    "\n",
    "  # Verific daca simularea este gata - masina a ajuns la destinatie sau a depasit distanta maxima\n",
    "  distance = next_state[0]\n",
    "  done = True if distance < location_size or distance >= max_distance else False\n",
    "\n",
    "  return next_state, reward, done"
   ]
  },
  {
   "cell_type": "markdown",
   "metadata": {
    "id": "JVjJelEsNdDI"
   },
   "source": [
    "### Aplicarea algoritmului\n",
    "\n"
   ]
  },
  {
   "cell_type": "code",
   "execution_count": null,
   "metadata": {
    "id": "TGdgs-tOLzUn"
   },
   "outputs": [],
   "source": [
    "\n",
    "\n",
    "for eps in range(EPISODES):\n",
    "  # Initializare variabile pentru episod\n",
    "  \n",
    "  # Creez agentul\n",
    "  agent = Agent(position=np.copy(car_position), direction=0, turn_rate=turn_rate, speed=car_speed)\n",
    "\n",
    "  # Lista care va contine toate pozitile din iteratia curenta\n",
    "  agent_positions = [agent.pos]\n",
    "\n",
    "  # Recompensele/penalizarile castigate in episod\n",
    "  episode_reward = 0\n",
    "  # Numarul iteratiei curente\n",
    "  episode_iteration = 0\n",
    "\n",
    "  # calculez starea actuala in baza obeservatiei date de agent\n",
    "  current_state = compute_state_for( agent.observe() )\n",
    "  # discretizez valoarea\n",
    "  current_discrete_state = compute_discrete_state_for( current_state )\n",
    "  \n",
    "  # variabila care marcheaza sfarsitul episodului\n",
    "  done = False\n",
    "\n",
    "  while not done:\n",
    "\n",
    "    # Verificam daca nu suntem in stadiul de explorare\n",
    "    if np.random.random() > epsilon:\n",
    "      # Alegem cea mai buna actiune\n",
    "      action = np.argmax(Q_table[current_discrete_state])\n",
    "    else:\n",
    "      # Alegem o actiune aletoare\n",
    "      action = np.random.randint(0, 3)\n",
    "   \n",
    "    # calculez starea urmatoare conform actiunii luate\n",
    "    next_state, reward, done = compute_future_state_with( action, agent )\n",
    "    # discretizez valoarea\n",
    "    next_discrete_state = compute_discrete_state_for( next_state )\n",
    "\n",
    "    # verific daca am ajuns la destinatie sau ma depasit distanta maxima admisa\n",
    "    if not done:\n",
    "      # preiau valoarea Q corespunzatoare starii actuale conforme actiunii luate\n",
    "      current_Q_value = Q_table[current_discrete_state][action]\n",
    "      # preiau cea mai buna valoarea Q al starii urmtoare calculate anterior \n",
    "      max_future_Q_value = np.max(Q_table[next_discrete_state])\n",
    "      # calculez noua valoare Q\n",
    "      new_Q = (1 - LEARNING_RATE) * current_Q_value + LEARNING_RATE * (reward + DISCOUNT * max_future_Q_value)\n",
    "      # actualizez valoare Q a starii actuale\n",
    "      Q_table[current_discrete_state][action] = new_Q\n",
    "    elif next_state[0] < location_size:\n",
    "      # verifica daca nu cumva agentul a ajuns deja la locatie\n",
    "      # daca da, ii ofer recompensa maxima\n",
    "      Q_table[current_discrete_state][action] = 100\n",
    "    \n",
    "    # vechea stare devina noua stare\n",
    "    current_discrete_state = next_discrete_state\n",
    "    # adun recompensa din iteratia curenta\n",
    "    episode_reward += reward\n",
    "    # salvez pozitia din iteratia curenta\n",
    "    agent_positions.append(agent.pos)\n",
    "    # trec la iteratia urmatore\n",
    "    episode_iteration += 1\n",
    "\n",
    "    if episode_iteration > EPISODE_ITERATIONS:\n",
    "      break\n",
    "\n",
    "  # daca agentul a stabilit o recompensa mai buna\n",
    "  # salvez aceste date pentru vizualizare\n",
    "  if episode_reward > best_reward:\n",
    "    best_reward = episode_reward\n",
    "    best_Q_table = copy.deepcopy(Q_table)\n",
    "    best_agent_positions = copy.deepcopy(agent_positions)\n",
    "\n",
    "\n",
    "  # veriric daca trebuie sa reduc rata de explorare\n",
    "  if END_EPSILON_DECAYING >= eps >= START_EPSILON_DECAYING:\n",
    "        epsilon -= epsilon_decay_value\n",
    "  # salvez recompensa pe episodului\n",
    "  rewards.append( episode_reward )"
   ]
  },
  {
   "cell_type": "markdown",
   "metadata": {
    "id": "9ao3M3SqRf9k"
   },
   "source": [
    "## Vizualizare"
   ]
  },
  {
   "cell_type": "code",
   "execution_count": null,
   "metadata": {
    "colab": {
     "base_uri": "https://localhost:8080/",
     "height": 312
    },
    "id": "vJIMT0saapnK",
    "outputId": "53e34f87-a7ae-40c1-85cf-bf0569521a63"
   },
   "outputs": [
    {
     "data": {
      "text/plain": [
       "Text(0.5, 1.0, 'Evolutia recompenselor de-a lungul episoadelor')"
      ]
     },
     "execution_count": 26,
     "metadata": {
      "tags": []
     },
     "output_type": "execute_result"
    },
    {
     "data": {
      "image/png": "[encoded data removed]",
      "text/plain": [
       "<Figure size 1080x288 with 1 Axes>"
      ]
     },
     "metadata": {
      "needs_background": "light",
      "tags": []
     },
     "output_type": "display_data"
    }
   ],
   "source": [
    "# VIZUALIZARE\n",
    "fig, (reward_plot) = plt.subplots(1)\n",
    "\n",
    "fig.set_figwidth(15)\n",
    "\n",
    "reward_plot.plot(rewards)\n",
    "reward_plot.set_xlabel('Episod')\n",
    "reward_plot.set_ylabel('Recompensa')\n",
    "reward_plot.set_title('Evolutia recompenselor de-a lungul episoadelor')"
   ]
  },
  {
   "cell_type": "code",
   "execution_count": null,
   "metadata": {
    "colab": {
     "base_uri": "https://localhost:8080/",
     "height": 1000
    },
    "id": "6CgmQUNMf1h2",
    "outputId": "b2024e17-bd25-437d-b810-9044f0d81a36"
   },
   "outputs": [
    {
     "data": {
      "image/png": "[encoded data removed]",
      "text/plain": [
       "<Figure size 1440x1440 with 1 Axes>"
      ]
     },
     "metadata": {
      "needs_background": "light",
      "tags": []
     },
     "output_type": "display_data"
    }
   ],
   "source": [
    "fig, (position_plot) = plt.subplots(1)\n",
    "fig.set_figheight(20)\n",
    "fig.set_figwidth(20)\n",
    "\n",
    "xs = []\n",
    "ys = []\n",
    "for pos in best_agent_positions:\n",
    "  x, y = pos\n",
    "  xs.append(x)\n",
    "  ys.append(y) \n",
    "\n",
    "position_plot.scatter(xs, ys, label=\"pozitie parcursa de masina\")\n",
    "position_plot.scatter(location_position[0], location_position[1], s=location_size * 300, alpha=0.7)\n",
    "position_plot.axis([-max_distance, max_distance, -max_distance, max_distance])\n",
    "position_plot.set_aspect('equal', 'box')\n",
    "position_plot.grid()\n",
    "position_plot.set_xlabel('X')\n",
    "position_plot.set_ylabel('Y')\n",
    "position_plot.legend()\n",
    "position_plot.set_title('Exemplu de episod optim')\n",
    "plt.show()"
   ]
  }
 ],
 "metadata": {
  "colab": {
   "collapsed_sections": [],
   "name": "licenta_q_learning_exemplu_1.ipynb",
   "provenance": []
  },
  "kernelspec": {
   "display_name": "Python 3",
   "language": "python",
   "name": "python3"
  },
  "language_info": {
   "codemirror_mode": {
    "name": "ipython",
    "version": 3
   },
   "file_extension": ".py",
   "mimetype": "text/x-python",
   "name": "python",
   "nbconvert_exporter": "python",
   "pygments_lexer": "ipython3",
   "version": "3.8.5"
  }
 },
 "nbformat": 4,
 "nbformat_minor": 1
}

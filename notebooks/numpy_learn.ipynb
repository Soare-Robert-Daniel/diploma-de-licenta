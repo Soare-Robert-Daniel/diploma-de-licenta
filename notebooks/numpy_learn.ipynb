{
 "metadata": {
  "language_info": {
   "codemirror_mode": {
    "name": "ipython",
    "version": 3
   },
   "file_extension": ".py",
   "mimetype": "text/x-python",
   "name": "python",
   "nbconvert_exporter": "python",
   "pygments_lexer": "ipython3",
   "version": "3.6.9-final"
  },
  "orig_nbformat": 2,
  "kernelspec": {
   "name": "python3",
   "display_name": "Python 3",
   "language": "python"
  }
 },
 "nbformat": 4,
 "nbformat_minor": 2,
 "cells": [
  {
   "cell_type": "code",
   "execution_count": 13,
   "metadata": {},
   "outputs": [
    {
     "output_type": "execute_result",
     "data": {
      "text/plain": [
       "array([[ True,  True,  True,  True,  True],\n",
       "       [ True,  True,  True,  True,  True],\n",
       "       [False, False, False, False, False]])"
      ]
     },
     "metadata": {},
     "execution_count": 13
    }
   ],
   "source": [
    "import numpy as np\n",
    "a = np.arange(15).reshape(3, 5)\n",
    "a < 10"
   ]
  },
  {
   "cell_type": "code",
   "execution_count": 6,
   "metadata": {},
   "outputs": [
    {
     "output_type": "stream",
     "name": "stdout",
     "text": [
      "(3, 5)\n2\nint64\n8\n15\n<memory at 0x7f0432f18120>\n<class 'numpy.ndarray'>\n"
     ]
    }
   ],
   "source": [
    "print(a.shape)\n",
    "print(a.ndim)\n",
    "print(a.dtype.name)\n",
    "print(a.itemsize)\n",
    "print(a.size)\n",
    "print(a.data)\n",
    "print(type(a))\n"
   ]
  },
  {
   "cell_type": "code",
   "execution_count": 12,
   "metadata": {},
   "outputs": [
    {
     "output_type": "execute_result",
     "data": {
      "text/plain": [
       "array([[1.804772e-316, 0.000000e+000, 0.000000e+000],\n",
       "       [0.000000e+000, 0.000000e+000, 0.000000e+000]])"
      ]
     },
     "metadata": {},
     "execution_count": 12
    }
   ],
   "source": [
    "a = np.array([2, 3, 4])\n",
    "a\n",
    "c = np.array([[1, 2], [3, 4]], dtype=complex)\n",
    "c\n",
    "np.zeros((3, 4))\n",
    "np.ones((2, 2, 2))\n",
    "np.empty((2, 3))"
   ]
  },
  {
   "cell_type": "code",
   "execution_count": 32,
   "metadata": {},
   "outputs": [
    {
     "output_type": "execute_result",
     "data": {
      "text/plain": [
       "array([[ 0,  1,  2,  3,  4,  0,  1,  2,  3,  4],\n",
       "       [ 5,  6,  7,  8,  9,  5,  6,  7,  8,  9],\n",
       "       [10, 11, 12, 13, 14, 10, 11, 12, 13, 14]])"
      ]
     },
     "metadata": {},
     "execution_count": 32
    }
   ],
   "source": [
    "A = np.arange(15).reshape(3, 5)\n",
    "B = np.arange(15).reshape(3, 5)\n",
    "C = A @ B.T\n",
    "C.cumsum(0)\n",
    "np.hstack((A, B))"
   ]
  },
  {
   "cell_type": "code",
   "execution_count": 25,
   "metadata": {},
   "outputs": [
    {
     "output_type": "stream",
     "name": "stdout",
     "text": [
      "[[ 0  1  2  3]\n [10 11 12 13]\n [20 21 22 23]\n [30 31 32 33]\n [40 41 42 43]]\n"
     ]
    },
    {
     "output_type": "execute_result",
     "data": {
      "text/plain": [
       "array([21, 22, 23])"
      ]
     },
     "metadata": {},
     "execution_count": 25
    }
   ],
   "source": [
    "def f(x, y):\n",
    "    return 10 * x + y\n",
    "b = np.fromfunction(f, (5, 4), dtype=int)\n",
    "print(b)\n",
    "b[2, 1:4]"
   ]
  },
  {
   "cell_type": "code",
   "execution_count": 37,
   "metadata": {},
   "outputs": [
    {
     "output_type": "execute_result",
     "data": {
      "text/plain": [
       "array([[ 0,  1,  4,  9, 16],\n",
       "       [25, 36, 49, 64, 81]])"
      ]
     },
     "metadata": {},
     "execution_count": 37
    }
   ],
   "source": [
    "a = np.arange(10)  ** 2\n",
    "i = np.arange(10).reshape(2, -1)\n",
    "a[i]"
   ]
  },
  {
   "cell_type": "code",
   "execution_count": 43,
   "metadata": {},
   "outputs": [
    {
     "output_type": "stream",
     "name": "stdout",
     "text": [
      "[[ 0  1  2  3]\n [ 4  5  6  7]\n [ 8  9 10 11]]\n4\n"
     ]
    },
    {
     "output_type": "execute_result",
     "data": {
      "text/plain": [
       "array([[ 2,  5],\n",
       "       [ 7, 11]])"
      ]
     },
     "metadata": {},
     "execution_count": 43
    }
   ],
   "source": [
    "a = np.arange(12).reshape(3, 4)\n",
    "i = np.array([[0, 1],  # indices for the first dim of `a`\n",
    "             [1, 2]])\n",
    "j = np.array([[2, 1],  # indices for the second dim\n",
    "             [3, 3]])\n",
    "print(a)\n",
    "print(a.shape[1])\n",
    "a[i,j]"
   ]
  },
  {
   "cell_type": "code",
   "execution_count": null,
   "metadata": {},
   "outputs": [],
   "source": [
    "import numpy as np\n",
    "\n",
    "import matplotlib.pyplot as plt\n",
    "\n",
    "def mandelbrot(h, w, maxit=20):\n",
    "\n",
    "    \"\"\"Returns an image of the Mandelbrot fractal of size (h,w).\"\"\"\n",
    "\n",
    "    y, x = np.ogrid[-1.4:1.4:h*1j, -2:0.8:w*1j]\n",
    "\n",
    "    c = x + y * 1j\n",
    "\n",
    "    z = c\n",
    "\n",
    "    divtime = maxit + np.zeros(z.shape, dtype=int)\n",
    "\n",
    "\n",
    "    for i in range(maxit):\n",
    "\n",
    "        z = z**2 + c\n",
    "\n",
    "        diverge = z * np.conj(z) > 2**2       # who is diverging\n",
    "\n",
    "        div_now = diverge & (divtime == maxit)  # who is diverging now\n",
    "\n",
    "        divtime[div_now] = i                    # note when\n",
    "\n",
    "        z[diverge] = 2                          # avoid diverging too much\n",
    "\n",
    "\n",
    "    return divtime\n",
    "\n",
    "plt.imshow(mandelbrot(400, 400))\n"
   ]
  }
 ]
}
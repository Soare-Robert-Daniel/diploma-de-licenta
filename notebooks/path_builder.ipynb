{
 "cells": [
  {
   "cell_type": "code",
   "execution_count": 47,
   "metadata": {},
   "outputs": [],
   "source": [
    "import matplotlib.pyplot as plt\n",
    "import numpy as np\n",
    "import shapely.geometry as shp\n",
    "from shapely.geometry import CAP_STYLE, JOIN_STYLE"
   ]
  },
  {
   "cell_type": "code",
   "execution_count": 81,
   "metadata": {},
   "outputs": [
    {
     "name": "stdout",
     "output_type": "stream",
     "text": [
      "[[ 10  10]\n",
      " [590  10]\n",
      " [590 590]\n",
      " [ 10 590]\n",
      " [ 10 460]\n",
      " [350 450]\n",
      " [ 10 250]\n",
      " [350 250]]\n"
     ]
    }
   ],
   "source": [
    "# Defineste calea traseului\n",
    "path = np.array([(10, 10), (590, 10), (590, 590), (10, 590), (10, 460), (350, 450), (10, 250), (350, 250)])\n",
    "print(path)\n",
    "route = shp.Polygon(path)"
   ]
  },
  {
   "cell_type": "code",
   "execution_count": 90,
   "metadata": {},
   "outputs": [],
   "source": [
    "# Calculez locatia marginilor\n",
    "margin_1 = route.buffer(30, join_style=JOIN_STYLE.round)\n",
    "margin_2 = route.buffer(-60, join_style=JOIN_STYLE.round)\n",
    "\n",
    "route_points = np.array(route.exterior)\n",
    "\n",
    "# margin_1_points = np.array(margin_1.exterior)\n",
    "margin_2_points = np.array(margin_2.exterior)"
   ]
  },
  {
   "cell_type": "code",
   "execution_count": 91,
   "metadata": {},
   "outputs": [
    {
     "data": {
      "image/png": "[encoded data removed]",
      "text/plain": [
       "<Figure size 432x288 with 1 Axes>"
      ]
     },
     "metadata": {
      "needs_background": "light"
     },
     "output_type": "display_data"
    }
   ],
   "source": [
    "# Vizualizare\n",
    "plt.plot(*route_points.T, color=\"blue\")\n",
    "# plt.plot(*margin_1_points.T, color=\"red\")\n",
    "plt.plot(*margin_2_points.T, color=\"green\")\n",
    "plt.axis('equal')\n",
    "plt.show()"
   ]
  },
  {
   "cell_type": "code",
   "execution_count": 5,
   "metadata": {},
   "outputs": [
    {
     "name": "stdout",
     "output_type": "stream",
     "text": [
      "86\n"
     ]
    }
   ],
   "source": [
    "print(len(margin_1_points))"
   ]
  },
  {
   "cell_type": "code",
   "execution_count": 6,
   "metadata": {},
   "outputs": [
    {
     "name": "stdout",
     "output_type": "stream",
     "text": [
      "[[ 10.  10.]\n",
      " [600.  10.]\n",
      " [600. 600.]\n",
      " [310. 310.]\n",
      " [ 10. 600.]\n",
      " [ 10.  10.]]\n"
     ]
    }
   ],
   "source": [
    "print(route_points)"
   ]
  },
  {
   "cell_type": "code",
   "execution_count": 18,
   "metadata": {},
   "outputs": [],
   "source": [
    "line = shp.LineString([(10, 10), (590, 10), (590, 590), (10, 590), (10, 400), (530, 400), (10, 200), (400, 400)])"
   ]
  },
  {
   "cell_type": "code",
   "execution_count": 19,
   "metadata": {},
   "outputs": [
    {
     "data": {
      "text/plain": [
       "[(10.0, 10.0),\n",
       " (590.0, 10.0),\n",
       " (590.0, 590.0),\n",
       " (10.0, 590.0),\n",
       " (10.0, 400.0),\n",
       " (530.0, 400.0),\n",
       " (10.0, 200.0),\n",
       " (400.0, 400.0)]"
      ]
     },
     "execution_count": 19,
     "metadata": {},
     "output_type": "execute_result"
    }
   ],
   "source": [
    "list(line.coords)"
   ]
  },
  {
   "cell_type": "code",
   "execution_count": 20,
   "metadata": {},
   "outputs": [],
   "source": [
    "margin = line.buffer(-30)"
   ]
  },
  {
   "cell_type": "code",
   "execution_count": 21,
   "metadata": {},
   "outputs": [
    {
     "name": "stdout",
     "output_type": "stream",
     "text": [
      "[]\n"
     ]
    }
   ],
   "source": [
    "print(margin.exterior.coords)"
   ]
  },
  {
   "cell_type": "code",
   "execution_count": null,
   "metadata": {},
   "outputs": [],
   "source": []
  }
 ],
 "metadata": {
  "kernelspec": {
   "display_name": "Python 3",
   "language": "python",
   "name": "python3"
  },
  "language_info": {
   "codemirror_mode": {
    "name": "ipython",
    "version": 3
   },
   "file_extension": ".py",
   "mimetype": "text/x-python",
   "name": "python",
   "nbconvert_exporter": "python",
   "pygments_lexer": "ipython3",
   "version": "3.8.5"
  }
 },
 "nbformat": 4,
 "nbformat_minor": 4
}

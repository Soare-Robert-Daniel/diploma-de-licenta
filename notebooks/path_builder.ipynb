{
 "cells": [
  {
   "cell_type": "code",
   "execution_count": 22,
   "metadata": {},
   "outputs": [],
   "source": [
    "import matplotlib.pyplot as plt\n",
    "import numpy as np\n",
    "import shapely.geometry as shp\n",
    "from shapely.geometry import CAP_STYLE, JOIN_STYLE"
   ]
  },
  {
   "cell_type": "code",
   "execution_count": 23,
   "metadata": {},
   "outputs": [],
   "source": [
    "# Defineste calea traseului\n",
    "path = np.array([[10.0, 10.0], [600.0, 10.0], [600.0, 600.0], [310.0, 310.0], [10.0, 600.0]])\n",
    "\n",
    "route = shp.Polygon(path)"
   ]
  },
  {
   "cell_type": "code",
   "execution_count": 41,
   "metadata": {},
   "outputs": [],
   "source": [
    "# Calculez locatia marginilor\n",
    "margin_1 = route.buffer(60, join_style=JOIN_STYLE.round)\n",
    "margin_2 = route.buffer(-45, join_style=JOIN_STYLE.round)\n",
    "\n",
    "route_points = np.array(route.exterior)\n",
    "margin_1_points = np.array(margin_1.exterior)\n",
    "margin_2_points = np.array(margin_2.exterior)"
   ]
  },
  {
   "cell_type": "code",
   "execution_count": 42,
   "metadata": {},
   "outputs": [
    {
     "data": {
      "image/png": "[encoded data removed]",
      "text/plain": [
       "<Figure size 432x288 with 1 Axes>"
      ]
     },
     "metadata": {
      "needs_background": "light"
     },
     "output_type": "display_data"
    }
   ],
   "source": [
    "# Vizualizare\n",
    "plt.plot(*route_points.T, color=\"blue\")\n",
    "plt.plot(*margin_1_points.T, color=\"red\")\n",
    "# plt.plot(*margin_2_points.T, color=\"green\")\n",
    "plt.axis('equal')\n",
    "plt.show()"
   ]
  },
  {
   "cell_type": "code",
   "execution_count": 34,
   "metadata": {},
   "outputs": [
    {
     "name": "stdout",
     "output_type": "stream",
     "text": [
      "86\n"
     ]
    }
   ],
   "source": [
    "print(len(margin_1_points))"
   ]
  },
  {
   "cell_type": "code",
   "execution_count": null,
   "metadata": {},
   "outputs": [],
   "source": []
  }
 ],
 "metadata": {
  "kernelspec": {
   "display_name": "Python 3",
   "language": "python",
   "name": "python3"
  },
  "language_info": {
   "codemirror_mode": {
    "name": "ipython",
    "version": 3
   },
   "file_extension": ".py",
   "mimetype": "text/x-python",
   "name": "python",
   "nbconvert_exporter": "python",
   "pygments_lexer": "ipython3",
   "version": "3.8.5"
  }
 },
 "nbformat": 4,
 "nbformat_minor": 4
}
